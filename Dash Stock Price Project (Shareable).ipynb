{
 "cells": [
  {
   "cell_type": "code",
   "execution_count": 1,
   "metadata": {},
   "outputs": [],
   "source": [
    "import numpy as np\n",
    "import pandas as pd\n",
    "import dash\n",
    "import dash_core_components as dcc\n",
    "import dash_html_components as html\n",
    "from dash.dependencies import Input, Output, State\n",
    "from dash.exceptions import PreventUpdate\n",
    "import plotly.graph_objs as go"
   ]
  },
  {
   "cell_type": "code",
   "execution_count": 3,
   "metadata": {},
   "outputs": [],
   "source": [
    "from datetime import datetime as dt\n",
    "from iexfinance.stocks import get_historical_data"
   ]
  },
  {
   "cell_type": "code",
   "execution_count": 4,
   "metadata": {},
   "outputs": [],
   "source": [
    "import pickle"
   ]
  },
  {
   "cell_type": "code",
   "execution_count": 5,
   "metadata": {},
   "outputs": [],
   "source": [
    "# Get tickers (previously downloaded from NASDAQ site)\n",
    "with open(\"symbols.pkl\", \"rb\") as t:\n",
    "    tickers = pickle.load(t) "
   ]
  },
  {
   "cell_type": "code",
   "execution_count": 6,
   "metadata": {},
   "outputs": [],
   "source": [
    "from iexfinance.stocks import Stock"
   ]
  },
  {
   "cell_type": "code",
   "execution_count": 1,
   "metadata": {},
   "outputs": [],
   "source": [
    "# Get the company name associated with every ticker from the iexfinance API (only needs to be run once)\n",
    "i = 0\n",
    "j = 50\n",
    "names = {}\n",
    "\n",
    "\n",
    "for i in range(0,len(tickers),50):\n",
    "    stock_info = Stock(tickers[i:j],token=\"xxxxxxxx\")\n",
    "    names.update(stock_info.get_company_name())\n",
    "    j = j + 50"
   ]
  },
  {
   "cell_type": "code",
   "execution_count": null,
   "metadata": {},
   "outputs": [],
   "source": [
    "# Setting app layout\n",
    "app = dash.Dash()\n",
    "\n",
    "app.layout = html.Div([\n",
    "    html.Div([html.H1('Stock Ticker Dashboard')]\n",
    "            ),\n",
    "    html.Div([html.Div([dcc.Dropdown(id='ticker-dd',\n",
    "                          options=[{\n",
    "                           'label': name + ', ' + names.get(name), \n",
    "                           'value': name} for name in names],\n",
    "                           value = list(names.keys())[0],\n",
    "                           multi=True\n",
    "                           )],style={'display':'inline-block','width':'30%','vertical-align':'top'}),\n",
    "    html.Div([dcc.DatePickerRange(id='date',\n",
    "                                  min_date_allowed=dt(2000, 1, 1),\n",
    "                                  max_date_allowed=dt(2020, 3, 19),\n",
    "                                  initial_visible_month=dt(2019, 1, 1),\n",
    "                                  start_date=dt(2020, 1, 1),\n",
    "                                  end_date=dt(2020, 3, 19))],\n",
    "             style={'display':'inline-block','width':'30%','padding':'5px'}),\n",
    "    html.Div([html.Button('Submit', id='button', type='submit')],\n",
    "             style={'display':'inline-block','width':'30%','padding':'5px'})]),\n",
    "    html.Div([dcc.Graph(id='price-chart',\n",
    "                       ),\n",
    "    html.Div(id='output')\n",
    "             ])\n",
    "])\n",
    "\n",
    "@app.callback(\n",
    "    Output('price-chart','figure'),\n",
    "    [Input('button','n_clicks')],\n",
    "    [State('ticker-dd','value'),\n",
    "     State('date','start_date'),\n",
    "     State('date','end_date')])\n",
    "    \n",
    "def update_graph(n_clicks,value,start_date,end_date):\n",
    "    i = 0\n",
    "    fig = go.Figure()\n",
    "    if n_clicks is None:\n",
    "        raise PreventUpdate\n",
    "    else:\n",
    "        start_date = pd.to_datetime(start_date)\n",
    "        end_date = pd.to_datetime(end_date)\n",
    "        for i in range(len(value)):     \n",
    "            df = get_historical_data(value[i], start_date, end_date, token=\"xxxxxxxxx\", output_format='pandas')\n",
    "            df.index = pd.to_datetime(df.index)\n",
    "            fig.add_trace(go.Scatter(\n",
    "                x = df.index,\n",
    "                y = df['close'],\n",
    "                mode = 'lines',\n",
    "                name = value[i]\n",
    "                ))\n",
    "    \n",
    "    fig.update_layout(xaxis_range=[start_date,end_date],title='{} Closing Price'.format(', '.join(value)))\n",
    "    fig.show()\n",
    "    return fig\n",
    "\n",
    "if __name__ == '__main__':\n",
    "    app.run_server(port=8080)"
   ]
  }
 ],
 "metadata": {
  "kernelspec": {
   "display_name": "Python 3",
   "language": "python",
   "name": "python3"
  },
  "language_info": {
   "codemirror_mode": {
    "name": "ipython",
    "version": 3
   },
   "file_extension": ".py",
   "mimetype": "text/x-python",
   "name": "python",
   "nbconvert_exporter": "python",
   "pygments_lexer": "ipython3",
   "version": "3.7.4"
  }
 },
 "nbformat": 4,
 "nbformat_minor": 4
}
